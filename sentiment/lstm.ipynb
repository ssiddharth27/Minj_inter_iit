{
 "cells": [
  {
   "cell_type": "code",
   "execution_count": 1,
   "metadata": {},
   "outputs": [],
   "source": [
    "import pandas as pd\n",
    "import numpy as np\n",
    "import re\n",
    "import nltk\n",
    "from nltk.corpus import stopwords\n",
    "from numpy import array\n",
    "\n",
    "from keras.preprocessing.text import one_hot, Tokenizer\n",
    "from keras_preprocessing.sequence import pad_sequences\n",
    "from keras.models import Sequential\n",
    "from keras.layers.core import Activation, Dropout, Dense\n",
    "from keras.layers import  Embedding, LSTM\n",
    "from sklearn.model_selection import train_test_split"
   ]
  },
  {
   "cell_type": "code",
   "execution_count": 2,
   "metadata": {},
   "outputs": [],
   "source": [
    "from tensorflow.keras.models import load_model\n",
    "lstm_model = load_model('models/lstm_phone_review2 copy.h5')"
   ]
  },
  {
   "cell_type": "code",
   "execution_count": 3,
   "metadata": {},
   "outputs": [],
   "source": [
    "# lstm_model.summary()"
   ]
  },
  {
   "cell_type": "code",
   "execution_count": 4,
   "metadata": {},
   "outputs": [
    {
     "data": {
      "text/html": [
       "<div>\n",
       "<style scoped>\n",
       "    .dataframe tbody tr th:only-of-type {\n",
       "        vertical-align: middle;\n",
       "    }\n",
       "\n",
       "    .dataframe tbody tr th {\n",
       "        vertical-align: top;\n",
       "    }\n",
       "\n",
       "    .dataframe thead th {\n",
       "        text-align: right;\n",
       "    }\n",
       "</style>\n",
       "<table border=\"1\" class=\"dataframe\">\n",
       "  <thead>\n",
       "    <tr style=\"text-align: right;\">\n",
       "      <th></th>\n",
       "      <th>Text_ID</th>\n",
       "      <th>Text</th>\n",
       "    </tr>\n",
       "  </thead>\n",
       "  <tbody>\n",
       "    <tr>\n",
       "      <th>0</th>\n",
       "      <td>article_0001</td>\n",
       "      <td>Digitisation is one of the key buzzwords in th...</td>\n",
       "    </tr>\n",
       "    <tr>\n",
       "      <th>1</th>\n",
       "      <td>article_0002</td>\n",
       "      <td>Increase in tolerance limit up to 120 per cent...</td>\n",
       "    </tr>\n",
       "    <tr>\n",
       "      <th>2</th>\n",
       "      <td>article_0003</td>\n",
       "      <td>Home &gt; News &gt; World Sports News\\n\\nJonas Lossl...</td>\n",
       "    </tr>\n",
       "    <tr>\n",
       "      <th>3</th>\n",
       "      <td>article_0004</td>\n",
       "      <td>Source: Agfax.com\\n\\nBy Keith Brown, DTN Contr...</td>\n",
       "    </tr>\n",
       "    <tr>\n",
       "      <th>4</th>\n",
       "      <td>article_0005</td>\n",
       "      <td>United Nations, Feb 4: The Serum Institute of ...</td>\n",
       "    </tr>\n",
       "    <tr>\n",
       "      <th>...</th>\n",
       "      <td>...</td>\n",
       "      <td>...</td>\n",
       "    </tr>\n",
       "    <tr>\n",
       "      <th>3995</th>\n",
       "      <td>article_3996</td>\n",
       "      <td>All Hindi Bloggers List with All Detail\\nMay 1...</td>\n",
       "    </tr>\n",
       "    <tr>\n",
       "      <th>3996</th>\n",
       "      <td>article_3997</td>\n",
       "      <td>Amazon Flex se Part Time me Earn kare ₹15,000 ...</td>\n",
       "    </tr>\n",
       "    <tr>\n",
       "      <th>3997</th>\n",
       "      <td>article_3998</td>\n",
       "      <td>Bad Link Building Strategies se Kaise Bachaye ...</td>\n",
       "    </tr>\n",
       "    <tr>\n",
       "      <th>3998</th>\n",
       "      <td>article_3999</td>\n",
       "      <td>Badiya Comment karte Samay Rakhe in Baat ka Dh...</td>\n",
       "    </tr>\n",
       "    <tr>\n",
       "      <th>3999</th>\n",
       "      <td>article_4000</td>\n",
       "      <td>Best Blogger Blog Theme का चुनाव कैसे करे ? [ ...</td>\n",
       "    </tr>\n",
       "  </tbody>\n",
       "</table>\n",
       "<p>4000 rows × 2 columns</p>\n",
       "</div>"
      ],
      "text/plain": [
       "           Text_ID                                               Text\n",
       "0     article_0001  Digitisation is one of the key buzzwords in th...\n",
       "1     article_0002  Increase in tolerance limit up to 120 per cent...\n",
       "2     article_0003  Home > News > World Sports News\\n\\nJonas Lossl...\n",
       "3     article_0004  Source: Agfax.com\\n\\nBy Keith Brown, DTN Contr...\n",
       "4     article_0005  United Nations, Feb 4: The Serum Institute of ...\n",
       "...            ...                                                ...\n",
       "3995  article_3996  All Hindi Bloggers List with All Detail\\nMay 1...\n",
       "3996  article_3997  Amazon Flex se Part Time me Earn kare ₹15,000 ...\n",
       "3997  article_3998  Bad Link Building Strategies se Kaise Bachaye ...\n",
       "3998  article_3999  Badiya Comment karte Samay Rakhe in Baat ka Dh...\n",
       "3999  article_4000  Best Blogger Blog Theme का चुनाव कैसे करे ? [ ...\n",
       "\n",
       "[4000 rows x 2 columns]"
      ]
     },
     "execution_count": 4,
     "metadata": {},
     "output_type": "execute_result"
    }
   ],
   "source": [
    "df_a=pd.read_csv(\"test.csv\")\n",
    "df2 = df_a.iloc[: , [0, 1]].copy()\n",
    "# df2.head()\n",
    "df2.dropna()"
   ]
  },
  {
   "cell_type": "code",
   "execution_count": 5,
   "metadata": {},
   "outputs": [],
   "source": [
    "def preprocess_text(sen):\n",
    "    '''Cleans text data up, leaving only 2 or more char long non-stepwords composed of A-Z & a-z only\n",
    "    in lowercase'''\n",
    "    # Remove punctuations and numbers\n",
    "    sen = re.sub('[^a-zA-Z]', ' ', sen)\n",
    "    sentence = sen.lower()\n",
    "\n",
    "    \n",
    "\n",
    "    # Single character removal\n",
    "    sentence = re.sub(r\"\\s+[a-zA-Z]\\s+\", ' ', sentence)  # When we remove apostrophe from the word \"Mark's\", the apostrophe is replaced by an empty space. Hence, we are left with single character \"s\" that we are removing here.\n",
    "\n",
    "    # Remove multiple spaces\n",
    "    sentence = re.sub(r'\\s+', ' ', sentence)  # Next, we remove all the single characters and replace it by a space which creates multiple spaces in our text. Finally, we remove the multiple spaces from our text as well.\n",
    "\n",
    "    # Remove Stopwords\n",
    "    pattern = re.compile(r'\\b(' + r'|'.join(stopwords.words('english')) + r')\\b\\s*')\n",
    "    sentence = pattern.sub('', sentence)\n",
    "\n",
    "    return sentence"
   ]
  },
  {
   "cell_type": "code",
   "execution_count": 6,
   "metadata": {},
   "outputs": [],
   "source": [
    "# import tokenizer and one hot encoder\n",
    "import pickle\n",
    "word_tokenizer = pickle.load(open(\"lstm_vec.pkl\", 'rb'))\n",
    "oh = pickle.load(open(\"ohe_encoder.pkl\", 'rb'))"
   ]
  },
  {
   "cell_type": "code",
   "execution_count": 7,
   "metadata": {},
   "outputs": [],
   "source": [
    "# Preprocess review text with earlier defined preprocess_text function\n",
    "x=df_a.iloc[: , 1]\n",
    "unseen_reviews = x\n",
    "\n",
    "unseen_processed = []\n",
    "for review in unseen_reviews:\n",
    "  review = preprocess_text(review)\n",
    "  unseen_processed.append(review)"
   ]
  },
  {
   "cell_type": "code",
   "execution_count": 8,
   "metadata": {},
   "outputs": [],
   "source": [
    "unseen_tokenized = word_tokenizer.texts_to_sequences(unseen_processed)\n",
    "maxlen=100\n",
    "# Pooling instance to have maxlength of 100 tokens\n",
    "unseen_padded = pad_sequences(unseen_tokenized, padding='post', maxlen=maxlen)"
   ]
  },
  {
   "cell_type": "code",
   "execution_count": 9,
   "metadata": {},
   "outputs": [
    {
     "name": "stdout",
     "output_type": "stream",
     "text": [
      "125/125 [==============================] - 5s 7ms/step\n"
     ]
    }
   ],
   "source": [
    "unseen_sentiments = lstm_model.predict(unseen_padded)"
   ]
  },
  {
   "cell_type": "code",
   "execution_count": 10,
   "metadata": {},
   "outputs": [],
   "source": [
    "\n",
    "test_class = np.argmax(unseen_sentiments, axis=1)\n",
    "test_class = test_class.tolist()\n",
    "# print(test_class)\n"
   ]
  },
  {
   "cell_type": "code",
   "execution_count": 11,
   "metadata": {},
   "outputs": [],
   "source": [
    "sentiment= []\n",
    "\n",
    "for i in test_class :\n",
    "    if(i==1):\n",
    "        sentiment.append(0)\n",
    "    elif(i==0):\n",
    "        sentiment.append(-1)\n",
    "    elif(i==2):\n",
    "        sentiment.append(1)"
   ]
  },
  {
   "cell_type": "code",
   "execution_count": 12,
   "metadata": {},
   "outputs": [],
   "source": [
    "df_a[\"sentiment\"]=sentiment\n",
    "df_a.to_csv(\"lstm_output.csv\")"
   ]
  }
 ],
 "metadata": {
  "kernelspec": {
   "display_name": "tf-gpu",
   "language": "python",
   "name": "python3"
  },
  "language_info": {
   "codemirror_mode": {
    "name": "ipython",
    "version": 3
   },
   "file_extension": ".py",
   "mimetype": "text/x-python",
   "name": "python",
   "nbconvert_exporter": "python",
   "pygments_lexer": "ipython3",
   "version": "3.9.12 (main, Apr  4 2022, 05:22:27) [MSC v.1916 64 bit (AMD64)]"
  },
  "orig_nbformat": 4,
  "vscode": {
   "interpreter": {
    "hash": "564136823ff1d336294778f585ddf905056b83b6b3c31091475193ff5234be04"
   }
  }
 },
 "nbformat": 4,
 "nbformat_minor": 2
}
